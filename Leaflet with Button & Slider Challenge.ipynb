{
 "cells": [
  {
   "cell_type": "code",
   "execution_count": null,
   "metadata": {},
   "outputs": [],
   "source": [
    "import ipyleaflet as leaflet\n",
    "import ipywidgets as widgets\n",
    "import random"
   ]
  },
  {
   "cell_type": "code",
   "execution_count": null,
   "metadata": {},
   "outputs": [],
   "source": [
    "def get_random_coordinates():\n",
    "    lat = random.uniform(-85, 85)\n",
    "    long = random.uniform(-180, 180)\n",
    "    return [lat, long]"
   ]
  },
  {
   "cell_type": "code",
   "execution_count": null,
   "metadata": {},
   "outputs": [],
   "source": [
    "map1 = leaflet.Map()\n",
    "map1.center = [52.3807305, 13.063064]\n",
    "map1.zoom = 17\n",
    "map1"
   ]
  },
  {
   "cell_type": "markdown",
   "metadata": {},
   "source": [
    "# Challenge 1\n",
    "\n",
    "Create a `button` widget, and connect the `on_click` event in Python to a callback that sets the map's `center` trait to a coordinate obtained from `get_random_coordinates`. Also, maybe add some `description` to your button?"
   ]
  },
  {
   "cell_type": "markdown",
   "metadata": {},
   "source": [
    "# Challenge 2\n",
    "\n",
    "Create a `IntSlider` widget, and connect it to the map's `zoom` attribute! Bonus points if you use `link`.\n",
    "The value of the `IntSlider` should lie between the map's `min_zoom` and `max_zoom`."
   ]
  },
  {
   "cell_type": "markdown",
   "metadata": {},
   "source": [
    "# Challenge 3\n",
    "\n",
    "Put the slider, the button and the map into a `VBox`."
   ]
  },
  {
   "cell_type": "markdown",
   "metadata": {},
   "source": [
    "# Documentation\n",
    "\n",
    "You can find all the ipywidgets and attributes [here](https://ipywidgets.readthedocs.io/en/stable/examples/Widget%20List.html)\n",
    "\n",
    "Documentation about the [widget events](https://ipywidgets.readthedocs.io/en/stable/examples/Widget%20Events.html)\n",
    "\n",
    "And ipyleaflet's documentation on the [Map widget](https://ipyleaflet.readthedocs.io/en/latest/api_reference/map.html)"
   ]
  }
 ],
 "metadata": {
  "kernelspec": {
   "display_name": "Python 3",
   "language": "python",
   "name": "python3"
  },
  "language_info": {
   "codemirror_mode": {
    "name": "ipython",
    "version": 3
   },
   "file_extension": ".py",
   "mimetype": "text/x-python",
   "name": "python",
   "nbconvert_exporter": "python",
   "pygments_lexer": "ipython3",
   "version": "3.7.1"
  }
 },
 "nbformat": 4,
 "nbformat_minor": 2
}
