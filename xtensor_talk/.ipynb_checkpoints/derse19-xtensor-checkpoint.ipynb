{
 "cells": [
  {
   "cell_type": "markdown",
   "metadata": {
    "slideshow": {
     "slide_type": "slide"
    }
   },
   "source": [
    "<img src=\"src/xtensor.png\" />\n",
    "\n",
    "The lazy Tensor Algebra Expression Library"
   ]
  },
  {
   "cell_type": "markdown",
   "metadata": {
    "slideshow": {
     "slide_type": "subslide"
    }
   },
   "source": [
    "# Who we are\n",
    "\n",
    "QuantStack - a small Open Source software consultancy in Paris\n",
    "\n",
    "<img src=\"src/us.png\" style=\"margin: 0 auto;\" />"
   ]
  },
  {
   "cell_type": "code",
   "execution_count": null,
   "metadata": {
    "slideshow": {
     "slide_type": "slide"
    }
   },
   "outputs": [],
   "source": [
    "#include <iostream>\n",
    "\n",
    "std::cout << \"Hello derse19!\" << std::endl;"
   ]
  },
  {
   "cell_type": "markdown",
   "metadata": {
    "slideshow": {
     "slide_type": "subslide"
    }
   },
   "source": [
    "# N-D arrays are everywhere\n",
    "\n",
    "- ... except for C++\n",
    "- Basic building block of data science\n",
    "- Images, Videos, Music, Point Clouds – all are expressed as N-dimensional data"
   ]
  },
  {
   "cell_type": "markdown",
   "metadata": {
    "slideshow": {
     "slide_type": "subslide"
    }
   },
   "source": [
    "<img src=\"src/xtensor.png\" width=\"500px\" />\n",
    "\n",
    "- n-dimensional array computing library\n",
    "- Support for lazy computation, broadcasting \n",
    "- C++14\n",
    "- API close to NumPy\n",
    "- Online demo: https://mybinder.org/v2/gh/QuantStack/xtensor/stable?filepath=notebooks/xtensor.ipynb (or go to https://github.com/QuantStack/xtensor and click on the launch binder badge)"
   ]
  },
  {
   "cell_type": "code",
   "execution_count": null,
   "metadata": {
    "slideshow": {
     "slide_type": "subslide"
    }
   },
   "outputs": [],
   "source": [
    "#include <xtensor/xio.hpp>\n",
    "#include <xtensor/xarray.hpp>\n",
    "\n",
    "xt::xarray<double> a = {{1,2,3}, {4,5,6}};\n",
    "\n",
    "std::cout << a << std::endl;"
   ]
  },
  {
   "cell_type": "markdown",
   "metadata": {
    "slideshow": {
     "slide_type": "subslide"
    }
   },
   "source": [
    "### STL interface"
   ]
  },
  {
   "cell_type": "code",
   "execution_count": null,
   "metadata": {
    "slideshow": {
     "slide_type": "-"
    }
   },
   "outputs": [],
   "source": [
    "for (auto& el : a)\n",
    "{\n",
    "    std::cout << el << std::endl;\n",
    "}"
   ]
  },
  {
   "cell_type": "code",
   "execution_count": null,
   "metadata": {
    "slideshow": {
     "slide_type": "fragment"
    }
   },
   "outputs": [],
   "source": [
    "a(0, 1) = 10;\n",
    "\n",
    "std::cout << a << std::endl;"
   ]
  },
  {
   "cell_type": "code",
   "execution_count": null,
   "metadata": {
    "slideshow": {
     "slide_type": "subslide"
    }
   },
   "outputs": [],
   "source": [
    "std::sort(a.begin(), a.end());\n",
    "\n",
    "std::cout << a << std::endl;"
   ]
  },
  {
   "cell_type": "code",
   "execution_count": null,
   "metadata": {},
   "outputs": [],
   "source": [
    "std::cout << xt::transpose(a) << std::endl;"
   ]
  },
  {
   "cell_type": "code",
   "execution_count": null,
   "metadata": {},
   "outputs": [],
   "source": [
    "a.reshape({1, 1, 6, 1});\n",
    "\n",
    "std::cout << a << std::endl;"
   ]
  },
  {
   "cell_type": "code",
   "execution_count": null,
   "metadata": {},
   "outputs": [],
   "source": [
    "a.reshape({2, 3});"
   ]
  },
  {
   "cell_type": "markdown",
   "metadata": {
    "slideshow": {
     "slide_type": "subslide"
    }
   },
   "source": [
    "### Functions"
   ]
  },
  {
   "cell_type": "code",
   "execution_count": null,
   "metadata": {
    "slideshow": {
     "slide_type": "-"
    }
   },
   "outputs": [],
   "source": [
    "auto xfunc = sin(a) * 2;\n",
    "\n",
    "std::cout << xfunc << std::endl;"
   ]
  },
  {
   "cell_type": "markdown",
   "metadata": {
    "slideshow": {
     "slide_type": "subslide"
    }
   },
   "source": [
    "### Expression Templates"
   ]
  },
  {
   "cell_type": "code",
   "execution_count": null,
   "metadata": {
    "slideshow": {
     "slide_type": "-"
    }
   },
   "outputs": [],
   "source": [
    "template <class T>\n",
    "void print_type(T) { std::cout << __PRETTY_FUNCTION__ << std::endl; }"
   ]
  },
  {
   "cell_type": "code",
   "execution_count": null,
   "metadata": {},
   "outputs": [],
   "source": [
    "print_type(xfunc);"
   ]
  },
  {
   "cell_type": "code",
   "execution_count": null,
   "metadata": {
    "slideshow": {
     "slide_type": "subslide"
    }
   },
   "outputs": [],
   "source": [
    "auto xfunc_el = xfunc(0, 1);\n",
    "std::cout << xfunc_el << std::endl;"
   ]
  },
  {
   "cell_type": "code",
   "execution_count": null,
   "metadata": {},
   "outputs": [],
   "source": [
    "xt::xarray<double> xfunc_result = xfunc;\n",
    "\n",
    "std::cout << xfunc_result << std::endl;"
   ]
  },
  {
   "cell_type": "markdown",
   "metadata": {
    "slideshow": {
     "slide_type": "subslide"
    }
   },
   "source": [
    "# Broadcasting\n",
    "\n",
    "- Automagically extend operands to match shape\n",
    "- Broadcasting rules copied from NumPy"
   ]
  },
  {
   "cell_type": "markdown",
   "metadata": {
    "slideshow": {
     "slide_type": "subslide"
    }
   },
   "source": [
    "<img src=\"src/broadcasting.png\" />"
   ]
  },
  {
   "cell_type": "code",
   "execution_count": null,
   "metadata": {
    "slideshow": {
     "slide_type": "subslide"
    }
   },
   "outputs": [],
   "source": [
    "std::cout << a << std::endl;"
   ]
  },
  {
   "cell_type": "code",
   "execution_count": null,
   "metadata": {},
   "outputs": [],
   "source": [
    "xt::xarray<double> brcast = {-10, +1, -10};\n",
    "std::cout << brcast << std::endl;"
   ]
  },
  {
   "cell_type": "code",
   "execution_count": null,
   "metadata": {},
   "outputs": [],
   "source": [
    "std::cout << a * brcast << std::endl;"
   ]
  },
  {
   "cell_type": "markdown",
   "metadata": {
    "slideshow": {
     "slide_type": "subslide"
    }
   },
   "source": [
    "# Memory Layout\n",
    "\n",
    "- Freely choose row, column-major or custom strides"
   ]
  },
  {
   "cell_type": "code",
   "execution_count": null,
   "metadata": {
    "slideshow": {
     "slide_type": "-"
    }
   },
   "outputs": [],
   "source": [
    "xt::xarray<double, xt::layout_type::column_major> a_cm = {{1,2,3}, {4,5,6}};\n",
    "\n",
    "std::cout << a_cm << std::endl;"
   ]
  },
  {
   "cell_type": "markdown",
   "metadata": {
    "slideshow": {
     "slide_type": "subslide"
    }
   },
   "source": [
    "# Container optimizations"
   ]
  },
  {
   "cell_type": "code",
   "execution_count": null,
   "metadata": {},
   "outputs": [],
   "source": [
    "// uses a std::array for shape & strides\n",
    "#include <xtensor/xtensor.hpp>\n",
    "\n",
    "xt::xtensor<double, 2> b = {{1, 2, 3}, {4, 5, 6}};\n",
    "std::cout << b << std::endl;"
   ]
  },
  {
   "cell_type": "code",
   "execution_count": null,
   "metadata": {},
   "outputs": [],
   "source": [
    "// uses a fixed size container for data (std::array)\n",
    "// strides computed constexpr at compile time (no storage)\n",
    "#include <xtensor/xfixed.hpp>\n",
    "\n",
    "xt::xtensor_fixed<double, xt::xshape<2, 3>> c = {{1,2,3}, {4,5,6}};\n",
    "std::cout << c << std::endl;"
   ]
  },
  {
   "cell_type": "markdown",
   "metadata": {
    "slideshow": {
     "slide_type": "subslide"
    }
   },
   "source": [
    "# Views\n",
    "\n",
    "- powerful views to reference sub-arrays\n",
    "- compute shapes statically if possible"
   ]
  },
  {
   "cell_type": "markdown",
   "metadata": {
    "slideshow": {
     "slide_type": "subslide"
    }
   },
   "source": [
    "<img src=\"src/views1.png\" />"
   ]
  },
  {
   "cell_type": "markdown",
   "metadata": {
    "slideshow": {
     "slide_type": "subslide"
    }
   },
   "source": [
    "<img src=\"src/views2.png\" />"
   ]
  },
  {
   "cell_type": "code",
   "execution_count": null,
   "metadata": {
    "slideshow": {
     "slide_type": "subslide"
    }
   },
   "outputs": [],
   "source": [
    "#include <xtensor/xview.hpp>\n",
    "#include <xtensor/xio.hpp>\n",
    "using namespace xt::placeholders;\n",
    "\n",
    "std::cout << a << std::endl;"
   ]
  },
  {
   "cell_type": "code",
   "execution_count": null,
   "metadata": {},
   "outputs": [],
   "source": [
    "std::cout << xt::view(a, 1, xt::all()) << std::endl;"
   ]
  },
  {
   "cell_type": "code",
   "execution_count": null,
   "metadata": {},
   "outputs": [],
   "source": [
    "// numpy equivalent: a[:, ::2]\n",
    "std::cout << xt::view(a, xt::all(), xt::range(_, _, 2)) << std::endl;"
   ]
  },
  {
   "cell_type": "code",
   "execution_count": null,
   "metadata": {
    "slideshow": {
     "slide_type": "subslide"
    }
   },
   "outputs": [],
   "source": [
    "xt::view(a, xt::all(), xt::range(_, _, 2)) *= 100;\n",
    "\n",
    "std::cout << a << std::endl;"
   ]
  },
  {
   "cell_type": "code",
   "execution_count": null,
   "metadata": {
    "slideshow": {
     "slide_type": "subslide"
    }
   },
   "outputs": [],
   "source": [
    "std::cout << a << std::endl;"
   ]
  },
  {
   "cell_type": "code",
   "execution_count": null,
   "metadata": {
    "slideshow": {
     "slide_type": "-"
    }
   },
   "outputs": [],
   "source": [
    "std::cout << xt::view(a, xt::keep(0, 0, 0) , xt::all()) << std::endl;"
   ]
  },
  {
   "cell_type": "markdown",
   "metadata": {
    "slideshow": {
     "slide_type": "subslide"
    }
   },
   "source": [
    "# Adapting a 1D container"
   ]
  },
  {
   "cell_type": "code",
   "execution_count": null,
   "metadata": {
    "slideshow": {
     "slide_type": "-"
    }
   },
   "outputs": [],
   "source": [
    "#include <vector>\n",
    "#include <xtensor/xadapt.hpp>\n",
    "\n",
    "std::vector<double> vdata = {1, 2, 3, 4, 5, 6, 7, 8, 9};\n",
    "auto adapted_vdata = xt::adapt(vdata, {3, 3});"
   ]
  },
  {
   "cell_type": "code",
   "execution_count": null,
   "metadata": {},
   "outputs": [],
   "source": [
    "std::cout << adapted_vdata << std::endl;"
   ]
  },
  {
   "cell_type": "code",
   "execution_count": null,
   "metadata": {},
   "outputs": [],
   "source": [
    "adapted_vdata(1, 2)"
   ]
  },
  {
   "cell_type": "code",
   "execution_count": null,
   "metadata": {
    "slideshow": {
     "slide_type": "subslide"
    }
   },
   "outputs": [],
   "source": [
    "#include <xtensor/xmath.hpp>\n",
    "\n",
    "std::cout << sum(adapted_vdata) << std::endl;"
   ]
  },
  {
   "cell_type": "code",
   "execution_count": null,
   "metadata": {},
   "outputs": [],
   "source": [
    "std::cout << sum(adapted_vdata, {1}) << std::endl;"
   ]
  },
  {
   "cell_type": "markdown",
   "metadata": {
    "slideshow": {
     "slide_type": "slide"
    }
   },
   "source": [
    "# NumPy to xtensor Cheatsheet\n",
    "\n",
    "<img src=\"src/cheatsheet.png\" style=\"float: right\" width=\"700px\"></img>\n",
    "\n",
    "Many functions that were not discussed:\n",
    "\n",
    "- More reducers: `mean`, `prod` ...\n",
    "- Accumulators: `cumsum`, `cumprod` ...\n",
    "- Random numbers, generators\n",
    "- Sorting, filtering\n",
    "- Optional (masked) values\n",
    "- NPY, CSV file format support\n",
    "\n",
    "https://xtensor.readthedocs.io/en/latest/numpy.html"
   ]
  },
  {
   "cell_type": "markdown",
   "metadata": {
    "slideshow": {
     "slide_type": "slide"
    }
   },
   "source": [
    "# xtensor\n",
    "\n",
    "- Modular sub-packages:\n",
    "    - xsimd: for SIMD vectorization support\n",
    "      (batch classes, hi-speed implementations of trigo, exp, ... functions) \n",
    "    - Intel TBB: parallelization\n",
    "- On top of xtensor:\n",
    "    - xtensor-blas: bindings to BLAS & LAPACK – matrix multiplication, inverse, svd, ...\n",
    "    - xtensor-io: image, sound, NPZ, HDF5, (soon video support)\n",
    "    - xtensor-fftw, xtensor-interpolate and more"
   ]
  },
  {
   "cell_type": "markdown",
   "metadata": {
    "slideshow": {
     "slide_type": "slide"
    }
   },
   "source": [
    "# xtensor as a building block\n",
    "\n",
    "<img src=\"src/pyjlr.png\" width=\"500px\" />\n",
    "\n",
    "- xtensor-python / julia / R\n",
    "- Seamlessly use arrays from each language\n",
    "- Better performance for dynamic languages"
   ]
  },
  {
   "cell_type": "markdown",
   "metadata": {
    "slideshow": {
     "slide_type": "subslide"
    }
   },
   "source": [
    "# Rayshading with xtensor\n",
    "\n",
    "<img src=\"src/xtensor_langs.png\" />"
   ]
  },
  {
   "cell_type": "markdown",
   "metadata": {
    "slideshow": {
     "slide_type": "subslide"
    }
   },
   "source": [
    "# Benchmarks\n",
    "\n",
    "- Standalone C++: 0.016s\n",
    "- Python + NumPy: 14.22s\n",
    "- Python + xtensor: 0.022s\n",
    "- Julia: 0.014s\n",
    "- Julia + xtensor: 0.014s\n",
    "- R: 9.905s\n",
    "- R + xtensor: 0.013s"
   ]
  },
  {
   "cell_type": "markdown",
   "metadata": {
    "slideshow": {
     "slide_type": "subslide"
    }
   },
   "source": [
    "# Thirdparty packages using xtensor\n",
    "\n",
    "- More and more packages adopting xtensor\n",
    "\n",
    "- C++: xtensor-fftw, xtensor-interpolate, tinydnn\n",
    "- Python: z5 (data format), cppcolormap\n",
    "- R: rray (broadcasting n-dim matrices for R!)"
   ]
  },
  {
   "cell_type": "markdown",
   "metadata": {
    "slideshow": {
     "slide_type": "subslide"
    }
   },
   "source": [
    "### Binding a Python / NumPy container\n",
    "\n",
    "```c++\n",
    "double sum_of_sines(xt::pyarray<double>& m)\n",
    "{\n",
    "    auto sines = xt::sin(m);  // sines does not actually hold values.\n",
    "    return std::accumulate(sines.begin(), sines.end(), 0.0);\n",
    "}\n",
    "\n",
    "PYBIND11_MODULE(xtensor_python_test, m)\n",
    "{\n",
    "    xt::import_numpy();\n",
    "    m.doc() = \"Test module for xtensor python bindings\";\n",
    "\n",
    "    m.def(\"sum_of_sines\", sum_of_sines, \"Sum the sines of the input values\");\n",
    "}\n",
    "```"
   ]
  },
  {
   "cell_type": "markdown",
   "metadata": {},
   "source": [
    "# Thanks\n",
    "\n",
    "Check out https://github.com/QuantStack/xtensor\n",
    "\n",
    "Follow on Twitter:\n",
    "\n",
    "- @JohanMabille\n",
    "- @wuoulf\n",
    "- @QuantStack\n"
   ]
  },
  {
   "cell_type": "markdown",
   "metadata": {
    "slideshow": {
     "slide_type": "slide"
    }
   },
   "source": [
    "# xtensor vs Blitz++\n",
    "\n",
    "- No runtime dimension container in Blitz (xarray)\n",
    "- Blitz++ unmaintained/dead\n",
    "- Legacy code, already broken with new compilers"
   ]
  },
  {
   "cell_type": "markdown",
   "metadata": {
    "slideshow": {
     "slide_type": "subslide"
    }
   },
   "source": [
    "# xtensor vs Eigen3\n",
    "\n",
    "- n-Dimensions from the start (Eigen has Tensor Module in /unsupported)\n",
    "- modularity vs monolithical Eigen\n",
    "- API subjectively \"nicer\", modern C++ features\n",
    "- extensibility (Python/Julia/R)"
   ]
  }
 ],
 "metadata": {
  "celltoolbar": "Diaporama",
  "kernelspec": {
   "display_name": "C++14",
   "language": "C++14",
   "name": "xcpp14"
  },
  "language_info": {
   "codemirror_mode": "text/x-c++src",
   "file_extension": ".cpp",
   "mimetype": "text/x-c++src",
   "name": "c++",
   "version": "-std=c++14"
  }
 },
 "nbformat": 4,
 "nbformat_minor": 2
}
